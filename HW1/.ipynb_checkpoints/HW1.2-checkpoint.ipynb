{
 "cells": [
  {
   "cell_type": "code",
   "execution_count": 1,
   "metadata": {
    "collapsed": true
   },
   "outputs": [],
   "source": [
    "import numpy as np\n",
    "import matplotlib.pyplot as plt\n",
    "from scipy import special\n",
    "%matplotlib inline"
   ]
  },
  {
   "cell_type": "markdown",
   "metadata": {},
   "source": [
    "We are given the probability that a solar type start has a planet of radius $1-2 R_{\\oplus}$, as well as the minimum number of similar planets we would like to detect and at what probability we want to find them, and using this we need to find the number of observations to make. This leads us to use a binomial distribution with $\\rho = 0.1$, $n \\ge 30$, and $N$ such that $P = 0.9$ or $0.99$.\n",
    "\n",
    "To get the probability of finding 30 or more of these planets, we can subtract the sum of the probabilities for 0 to 29 planets from 1: $$P(n \\ge 30, \\rho) = 1 - \\sum_{m=0}^{29} P(n=m, \\rho)$$\n",
    "\n",
    "The cumulative binomial distribution function is available as a built in function in scipy.special, so we will go ahead and use that."
   ]
  },
  {
   "cell_type": "code",
   "execution_count": 2,
   "metadata": {
    "collapsed": true
   },
   "outputs": [],
   "source": [
    "def prob(nmin, prior, Nobs) :\n",
    "    return (1. - special.bdtr(nmin-1, Nobs, prior))\n",
    "n = 30\n",
    "rho = 0.1"
   ]
  },
  {
   "cell_type": "markdown",
   "metadata": {},
   "source": [
    "Since we want to solve for $N$ given a value of $P$, it makes more sense to define a function that takes the difference between the probability given $N$ and the desired probability and find the zeros of it. That function is defined here."
   ]
  },
  {
   "cell_type": "code",
   "execution_count": 3,
   "metadata": {
    "collapsed": true
   },
   "outputs": [],
   "source": [
    "def probDiff(Nobs, nmin, prior, P) :\n",
    "    return (prob(nmin, prior, Nobs) - P)\n",
    "P1 = 0.9\n",
    "P2 = 0.99"
   ]
  },
  {
   "cell_type": "markdown",
   "metadata": {},
   "source": [
    "Now let's plot this difference for the two different values of $P$ to get a starting interval in which to find the zeros."
   ]
  },
  {
   "cell_type": "code",
   "execution_count": 4,
   "metadata": {
    "collapsed": false
   },
   "outputs": [
    {
     "name": "stderr",
     "output_type": "stream",
     "text": [
      "/home/tmcclintock/anaconda/lib/python2.7/site-packages/ipykernel/__main__.py:2: RuntimeWarning: floating point number truncated to an integer\n",
      "  from ipykernel import kernelapp as app\n"
     ]
    },
    {
     "data": {
      "text/plain": [
       "<matplotlib.legend.Legend at 0x2b3b50187210>"
      ]
     },
     "execution_count": 4,
     "metadata": {},
     "output_type": "execute_result"
    },
    {
     "data": {
      "image/png": "[encoded data removed]",
      "text/plain": [
       "<matplotlib.figure.Figure at 0x2b3b4e0daa10>"
      ]
     },
     "metadata": {},
     "output_type": "display_data"
    }
   ],
   "source": [
    "plt.figure(facecolor='w')\n",
    "plt.xlabel('N')\n",
    "plt.ylabel('P(N) - P')\n",
    "plt.xlim([350, 500])\n",
    "plt.plot(np.linspace(350, 500, num=100), probDiff(np.linspace(350, 500, num=100), n, rho, P1), 'r-', label='P = {}'.format(P1))\n",
    "plt.plot(np.linspace(350, 500, num=100), probDiff(np.linspace(350, 500, num=100), n, rho, P2), 'b--', label='P = {}'.format(P2))\n",
    "plt.plot([350, 500], [0, 0], 'k-', alpha=0.5)\n",
    "plt.legend(loc=0)"
   ]
  },
  {
   "cell_type": "markdown",
   "metadata": {},
   "source": [
    "So now we can see that for $P = 0.9$, the zero occurs somewhere in $360 < N < 380$ and for $P = 0.99$ the range is $420 < N < 440$. We will use these limits to bracket our root finder.\n",
    "\n",
    "I'm going to try the false position method from Numerical Recipes (Press et al. section 9.2) to find the roots."
   ]
  },
  {
   "cell_type": "code",
   "execution_count": 5,
   "metadata": {
    "collapsed": false
   },
   "outputs": [],
   "source": [
    "def false_pos_root(f, x1, x2, maxiter=50, tol=1e-12, *args) :\n",
    "    # Make sure the function has a root in the interval\n",
    "    assert f(x1, *args)*f(x2, *args) < 0.0, 'No root in given interval: f({}) = {}, f({}) = {}'.format(x1, f(x1, *args), x2, f(x2, *args))\n",
    "    # Initialize the low and high x bounds, the values of the function at the bounds, and the difference in x\n",
    "    if f(x1, *args) < 0.0 :\n",
    "        xl = x1\n",
    "        xh = x2\n",
    "    else :\n",
    "        xl = x2\n",
    "        xh = x1\n",
    "    fl = f(xl, *args)\n",
    "    fh = f(xh, *args)\n",
    "    dx = xh - xl\n",
    "    \n",
    "    # Loop to change xl and xh until convergence or maxiter is reached\n",
    "    for i in range(maxiter) :\n",
    "        # increment based on last values\n",
    "        xnew = xl + dx*(fl/(fl-fh))\n",
    "        # Replace xh and fh or xl and fl based on sign of f at xnew\n",
    "        if f(xnew, *args) < 0.0 :\n",
    "            # lower bound replaced\n",
    "            delta = xl - xnew\n",
    "            xl = xnew\n",
    "            fl = f(xnew, *args)\n",
    "        else :\n",
    "            # upper bound replaced\n",
    "            delta = xh - xnew\n",
    "            xh = xnew\n",
    "            fh = f(xnew, *args)\n",
    "        # New difference in x\n",
    "        dx = xh - xl\n",
    "        # Check for convergence: either the new x values are changing by less than the tolerance or the function is 0\n",
    "        if np.fabs(delta) < tol or f(xnew, *args) == 0.0 :\n",
    "            return xnew\n",
    "    # If we reach this point, we didn't converge in time. Print a message and return an integer\n",
    "    print ('Did not converge within maximum number of iterations')\n",
    "    return 0"
   ]
  },
  {
   "cell_type": "markdown",
   "metadata": {},
   "source": [
    "Now we just need to use the false positive root finder with our given values and function, and see what we get for the zeros."
   ]
  },
  {
   "cell_type": "code",
   "execution_count": 6,
   "metadata": {
    "collapsed": false
   },
   "outputs": [
    {
     "name": "stdout",
     "output_type": "stream",
     "text": [
      "368.0\n",
      "435.0\n"
     ]
    },
    {
     "name": "stderr",
     "output_type": "stream",
     "text": [
      "/home/tmcclintock/anaconda/lib/python2.7/site-packages/ipykernel/__main__.py:2: RuntimeWarning: floating point number truncated to an integer\n",
      "  from ipykernel import kernelapp as app\n"
     ]
    }
   ],
   "source": [
    "xlow1 = 360.\n",
    "xhigh1 = 380.\n",
    "xlow2 = 420.\n",
    "xhigh2 = 440.\n",
    "maxiter=100\n",
    "tol=1e-12\n",
    "N1 = false_pos_root(probDiff, xlow1, xhigh1, maxiter, tol, n, rho, P1)\n",
    "N2 = false_pos_root(probDiff, xlow2, xhigh2, maxiter, tol, n, rho, P2)\n",
    "print N1\n",
    "print N2"
   ]
  }
 ],
 "metadata": {
  "kernelspec": {
   "display_name": "Python 2",
   "language": "python",
   "name": "python2"
  },
  "language_info": {
   "codemirror_mode": {
    "name": "ipython",
    "version": 2
   },
   "file_extension": ".py",
   "mimetype": "text/x-python",
   "name": "python",
   "nbconvert_exporter": "python",
   "pygments_lexer": "ipython2",
   "version": "2.7.10"
  }
 },
 "nbformat": 4,
 "nbformat_minor": 0
}
