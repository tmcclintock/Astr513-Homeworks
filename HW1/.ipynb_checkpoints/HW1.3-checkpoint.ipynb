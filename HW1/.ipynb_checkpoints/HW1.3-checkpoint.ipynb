{
 "cells": [
  {
   "cell_type": "code",
   "execution_count": 1,
   "metadata": {
    "collapsed": true
   },
   "outputs": [],
   "source": [
    "import numpy as np\n",
    "import matplotlib.pyplot as plt\n",
    "import scipy.optimize as optimize\n",
    "%matplotlib inline"
   ]
  },
  {
   "cell_type": "markdown",
   "metadata": {},
   "source": [
    "i) Given our initial distribution:\n",
    "\n",
    "$f(\\epsilon;T)d\\epsilon = C\\frac{\\epsilon^2d\\epsilon}{\\exp{(\\epsilon/kT)}-1}$\n",
    "\n",
    "we first make a change in variables $\\epsilon' = \\epsilon/kT$.\n",
    "\n",
    "This results in the distribution\n",
    "\n",
    "$f(\\epsilon')d\\epsilon' = A\\frac{\\epsilon'^2d\\epsilon'}{\\exp{(\\epsilon')}-1}$\n",
    "\n",
    "where $A=C/(kT)^2$."
   ]
  },
  {
   "cell_type": "markdown",
   "metadata": {},
   "source": [
    "ii) We now need to find where this function is a maximum numerically."
   ]
  },
  {
   "cell_type": "code",
   "execution_count": 2,
   "metadata": {
    "collapsed": true
   },
   "outputs": [],
   "source": [
    "def f(eps):\n",
    "    return eps**2/(np.exp(eps)-1)\n",
    "def fm(eps):\n",
    "    return -f(eps)"
   ]
  },
  {
   "cell_type": "code",
   "execution_count": 3,
   "metadata": {
    "collapsed": false
   },
   "outputs": [
    {
     "name": "stdout",
     "output_type": "stream",
     "text": [
      "Optimization terminated successfully.\n",
      "         Current function value: -0.647610\n",
      "         Iterations: 29\n",
      "         Function evaluations: 59\n",
      "  status: 0\n",
      "    nfev: 59\n",
      " success: True\n",
      "     fun: -0.64761023789191496\n",
      "       x: array([ 1.59362426])\n",
      " message: 'Optimization terminated successfully.'\n",
      "     nit: 29\n",
      "f(eps_max) =  [ 0.64761024]\n"
     ]
    }
   ],
   "source": [
    "x0 = 1.0\n",
    "res = optimize.minimize(fm,x0,method='nelder-mead',options={'xtol':1e-8,'disp':True})\n",
    "print res\n",
    "print \"f(eps_max) = \",f(res.x)"
   ]
  },
  {
   "cell_type": "markdown",
   "metadata": {},
   "source": [
    "The function is maximized at $\\epsilon'\\approx1.594$."
   ]
  },
  {
   "cell_type": "markdown",
   "metadata": {},
   "source": [
    "iii) We will now renomralize our function by dividing by $f(\\epsilon=1.594) \\approx 0.6476$.\n",
    "\n",
    "$f'(\\epsilon')d\\epsilon' = B\\frac{\\epsilon'^2d\\epsilon'}{\\exp{(\\epsilon')}-1}$\n",
    "\n",
    "where $B = A/0.6476$."
   ]
  },
  {
   "cell_type": "code",
   "execution_count": 4,
   "metadata": {
    "collapsed": true
   },
   "outputs": [],
   "source": [
    "def fp(eps):\n",
    "    return f(eps)/f(res.x)"
   ]
  },
  {
   "cell_type": "markdown",
   "metadata": {},
   "source": [
    "iv) Here is a function that returns a photon of energy between $\\epsilon_1'=0.1$ and $\\epsilon_2'=5.0$."
   ]
  },
  {
   "cell_type": "code",
   "execution_count": 10,
   "metadata": {
    "collapsed": false
   },
   "outputs": [],
   "source": [
    "def en():\n",
    "    lo,hi = 0.1,5.0\n",
    "    return np.random.rand()*(hi-lo)+lo"
   ]
  },
  {
   "cell_type": "markdown",
   "metadata": {},
   "source": [
    "v) Now, we make repeated draws to en(), $e$, as well as many draws from the RNG, $r$. When $r_i>f(e_i)$ then the photon is rejected. Otherwise it is accepted. We do this for $N=100000$ photons."
   ]
  },
  {
   "cell_type": "code",
   "execution_count": 6,
   "metadata": {
    "collapsed": false
   },
   "outputs": [
    {
     "name": "stdout",
     "output_type": "stream",
     "text": [
      "676475 323525 1000000\n"
     ]
    }
   ],
   "source": [
    "N = 1000000\n",
    "N_accepted = 0\n",
    "N_rejected = 0\n",
    "\n",
    "acc,facc = [],[]\n",
    "\n",
    "for i in range(N):\n",
    "    e = en()   #energy\n",
    "    fe = fp(e) #f(energy)\n",
    "    r = np.random.rand() #RNG call between 0 and 1\n",
    "    if r>fe:\n",
    "        N_rejected+=1\n",
    "    else:\n",
    "        N_accepted+=1\n",
    "        acc.append(e)\n",
    "        facc.append(fe)\n",
    "    continue\n",
    "\n",
    "print N_accepted, N_rejected, N"
   ]
  },
  {
   "cell_type": "code",
   "execution_count": 7,
   "metadata": {
    "collapsed": false
   },
   "outputs": [
    {
     "data": {
      "text/plain": [
       "(array([ 0.06528551,  0.10228767,  0.1336935 ,  0.16408867,  0.19048646,\n",
       "         0.21021693,  0.23204413,  0.24626877,  0.26348013,  0.27402416,\n",
       "         0.28268263,  0.29016452,  0.29781234,  0.29734472,  0.30233768,\n",
       "         0.30272987,  0.29977332,  0.30176447,  0.29369428,  0.29073773,\n",
       "         0.28683086,  0.2779612 ,  0.27684495,  0.26995136,  0.26043307,\n",
       "         0.251669  ,  0.24654029,  0.23625269,  0.22771489,  0.21923743,\n",
       "         0.20964372,  0.20415298,  0.19285472,  0.18775618,  0.18039496,\n",
       "         0.17196276,  0.16271599,  0.15322787,  0.14856677,  0.13755512,\n",
       "         0.13176269,  0.12725244,  0.1195292 ,  0.11569775,  0.10592302,\n",
       "         0.10602861,  0.09637457,  0.09107992,  0.08429192,  0.08313042]),\n",
       " array([ 0.10008105,  0.19807938,  0.29607772,  0.39407606,  0.49207439,\n",
       "         0.59007273,  0.68807107,  0.7860694 ,  0.88406774,  0.98206608,\n",
       "         1.08006442,  1.17806275,  1.27606109,  1.37405943,  1.47205776,\n",
       "         1.5700561 ,  1.66805444,  1.76605277,  1.86405111,  1.96204945,\n",
       "         2.06004778,  2.15804612,  2.25604446,  2.3540428 ,  2.45204113,\n",
       "         2.55003947,  2.64803781,  2.74603614,  2.84403448,  2.94203282,\n",
       "         3.04003115,  3.13802949,  3.23602783,  3.33402616,  3.4320245 ,\n",
       "         3.53002284,  3.62802117,  3.72601951,  3.82401785,  3.92201619,\n",
       "         4.02001452,  4.11801286,  4.2160112 ,  4.31400953,  4.41200787,\n",
       "         4.51000621,  4.60800454,  4.70600288,  4.80400122,  4.90199955,\n",
       "         4.99999789]),\n",
       " <a list of 50 Patch objects>)"
      ]
     },
     "execution_count": 7,
     "metadata": {},
     "output_type": "execute_result"
    },
    {
     "data": {
      "image/png": "[encoded data removed]",
      "text/plain": [
       "<matplotlib.figure.Figure at 0x2abb8792ea90>"
      ]
     },
     "metadata": {},
     "output_type": "display_data"
    }
   ],
   "source": [
    "plt.hist(acc,bins=50,normed=True)"
   ]
  },
  {
   "cell_type": "markdown",
   "metadata": {},
   "source": [
    "iv) This technique is now generalized to probe the distribution at a given energy. This is contained in the following function."
   ]
  },
  {
   "cell_type": "code",
   "execution_count": 8,
   "metadata": {
    "collapsed": true
   },
   "outputs": [],
   "source": [
    "def D_f(eps):\n",
    "    N = 10000\n",
    "    N_accepted = 0.0\n",
    "    fe = fp(eps)\n",
    "    for i in range(N):\n",
    "        r = np.random.rand()\n",
    "        if r<fe:\n",
    "            N_accepted+=1.0\n",
    "    return N_accepted/N"
   ]
  },
  {
   "cell_type": "markdown",
   "metadata": {},
   "source": [
    "Loop over all energies in small steps $d\\epsilon'$ and plot the distribution."
   ]
  },
  {
   "cell_type": "code",
   "execution_count": 9,
   "metadata": {
    "collapsed": false
   },
   "outputs": [
    {
     "data": {
      "text/plain": [
       "<Container object of 100 artists>"
      ]
     },
     "execution_count": 9,
     "metadata": {},
     "output_type": "execute_result"
    },
    {
     "data": {
      "image/png": "[encoded data removed]",
      "text/plain": [
       "<matplotlib.figure.Figure at 0x2abb87d51510>"
      ]
     },
     "metadata": {},
     "output_type": "display_data"
    }
   ],
   "source": [
    "energies = np.linspace(0.1,5.0,100)\n",
    "Dist = []\n",
    "for e in energies:\n",
    "    Dist.append(D_f(e))\n",
    "plt.bar(energies,Dist,width = energies[1]-energies[0])\n",
    "plt.gcf().savefig(\"HW1.3.6.png\")"
   ]
  },
  {
   "cell_type": "markdown",
   "metadata": {},
   "source": [
    "Hey hey badabing."
   ]
  },
  {
   "cell_type": "code",
   "execution_count": null,
   "metadata": {
    "collapsed": true
   },
   "outputs": [],
   "source": []
  }
 ],
 "metadata": {
  "kernelspec": {
   "display_name": "Python 2",
   "language": "python",
   "name": "python2"
  },
  "language_info": {
   "codemirror_mode": {
    "name": "ipython",
    "version": 2
   },
   "file_extension": ".py",
   "mimetype": "text/x-python",
   "name": "python",
   "nbconvert_exporter": "python",
   "pygments_lexer": "ipython2",
   "version": "2.7.10"
  }
 },
 "nbformat": 4,
 "nbformat_minor": 0
}
