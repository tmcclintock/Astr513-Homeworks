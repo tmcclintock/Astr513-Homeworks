{
 "cells": [
  {
   "cell_type": "code",
   "execution_count": 2,
   "metadata": {
    "collapsed": true
   },
   "outputs": [],
   "source": [
    "import numpy as np\n",
    "import matplotlib.pyplot as plt\n",
    "import scipy.optimize as optimize\n",
    "%matplotlib inline"
   ]
  },
  {
   "cell_type": "markdown",
   "metadata": {},
   "source": [
    "i) Given our initial distribution:\n",
    "\n",
    "$f(\\epsilon;T)d\\epsilon = C\\frac{\\epsilon^2d\\epsilon}{\\exp{(\\epsilon/kT)}-1}$\n",
    "\n",
    "we first make a change in variables $\\epsilon' = \\epsilon/kT$.\n",
    "\n",
    "This results in the distribution\n",
    "\n",
    "$f(\\epsilon')d\\epsilon' = A\\frac{\\epsilon'^2d\\epsilon'}{\\exp{(\\epsilon')}-1}$\n",
    "\n",
    "where $A=C/(kT)^2$."
   ]
  },
  {
   "cell_type": "markdown",
   "metadata": {},
   "source": [
    "ii) We now need to find where this function is a maximum numerically."
   ]
  },
  {
   "cell_type": "code",
   "execution_count": 3,
   "metadata": {
    "collapsed": true
   },
   "outputs": [],
   "source": [
    "def f(eps):\n",
    "    return eps**2/(np.exp(eps)-1)\n",
    "def fm(eps):\n",
    "    return -f(eps)"
   ]
  },
  {
   "cell_type": "code",
   "execution_count": 4,
   "metadata": {
    "collapsed": false
   },
   "outputs": [
    {
     "name": "stdout",
     "output_type": "stream",
     "text": [
      "Optimization terminated successfully.\n",
      "         Current function value: -0.647610\n",
      "         Iterations: 29\n",
      "         Function evaluations: 59\n",
      "  status: 0\n",
      "    nfev: 59\n",
      " success: True\n",
      "     fun: -0.64761023789191496\n",
      "       x: array([ 1.59362426])\n",
      " message: 'Optimization terminated successfully.'\n",
      "     nit: 29\n",
      "f(eps_max) =  [ 0.64761024]\n"
     ]
    }
   ],
   "source": [
    "x0 = 1.0\n",
    "res = optimize.minimize(fm,x0,method='nelder-mead',options={'xtol':1e-8,'disp':True})\n",
    "print res\n",
    "print \"f(eps_max) = \",f(res.x)"
   ]
  },
  {
   "cell_type": "markdown",
   "metadata": {},
   "source": [
    "The function is maximized at $\\epsilon'\\approx1.594$."
   ]
  },
  {
   "cell_type": "markdown",
   "metadata": {},
   "source": [
    "iii) We will now renomralize our function by dividing by $f(\\epsilon=1.594) \\approx 0.6476$.\n",
    "\n",
    "$f'(\\epsilon')d\\epsilon' = B\\frac{\\epsilon'^2d\\epsilon'}{\\exp{(\\epsilon')}-1}$\n",
    "\n",
    "where $B = A/0.6476$."
   ]
  },
  {
   "cell_type": "code",
   "execution_count": 5,
   "metadata": {
    "collapsed": true
   },
   "outputs": [],
   "source": [
    "def fp(eps):\n",
    "    return f(eps)/f(res.x)"
   ]
  },
  {
   "cell_type": "markdown",
   "metadata": {},
   "source": [
    "iv) Here is a function that returns a photon of energy between $\\epsilon_1'=0.1$ and $\\epsilon_2'=5.0$."
   ]
  },
  {
   "cell_type": "code",
   "execution_count": 6,
   "metadata": {
    "collapsed": false
   },
   "outputs": [],
   "source": [
    "def en():\n",
    "    lo,hi = 0.1,5.0\n",
    "    return np.random.rand()*(hi-lo)+lo"
   ]
  },
  {
   "cell_type": "markdown",
   "metadata": {},
   "source": [
    "v) Now, we make repeated draws to en(), $e$, as well as many draws from the RNG, $r$. When $r_i>f(e_i)$ then the photon is rejected. Otherwise it is accepted. We do this for $N=100000$ photons."
   ]
  },
  {
   "cell_type": "code",
   "execution_count": 13,
   "metadata": {
    "collapsed": false
   },
   "outputs": [
    {
     "name": "stdout",
     "output_type": "stream",
     "text": [
      "677833 322167 1000000\n"
     ]
    }
   ],
   "source": [
    "N = 1000000\n",
    "N_accepted = 0\n",
    "N_rejected = 0\n",
    "\n",
    "acc,facc = [],[]\n",
    "\n",
    "for i in range(N):\n",
    "    e = en()   #energy\n",
    "    fe = fp(e) #f(energy)\n",
    "    r = np.random.rand() #RNG call between 0 and 1\n",
    "    if r>fe:\n",
    "        N_rejected+=1\n",
    "    else:\n",
    "        N_accepted+=1\n",
    "        acc.append(e)\n",
    "        facc.append(fe)\n",
    "    continue\n",
    "\n",
    "print N_accepted, N_rejected, N"
   ]
  },
  {
   "cell_type": "code",
   "execution_count": 14,
   "metadata": {
    "collapsed": false
   },
   "outputs": [
    {
     "data": {
      "text/plain": [
       "(array([ 0.06319713,  0.10060657,  0.13702245,  0.16354778,  0.19302371,\n",
       "         0.21018539,  0.23403109,  0.24905508,  0.26222742,  0.27547503,\n",
       "         0.2843419 ,  0.29384104,  0.29518086,  0.29503031,  0.29993795,\n",
       "         0.30141325,  0.30309931,  0.29665616,  0.29353996,  0.28964095,\n",
       "         0.28590753,  0.28226444,  0.27521911,  0.26627698,  0.26159515,\n",
       "         0.25188525,  0.24276247,  0.23723761,  0.22886753,  0.21820923,\n",
       "         0.21093809,  0.20298953,  0.19501085,  0.18671604,  0.1803331 ,\n",
       "         0.1707888 ,  0.16285529,  0.15522286,  0.14804205,  0.1392354 ,\n",
       "         0.13375571,  0.1274932 ,  0.11909301,  0.11435097,  0.10738092,\n",
       "         0.10283458,  0.09563872,  0.09146873,  0.08671163,  0.08202981]),\n",
       " array([ 0.10003576,  0.19803493,  0.2960341 ,  0.39403327,  0.49203244,\n",
       "         0.59003161,  0.68803078,  0.78602996,  0.88402913,  0.9820283 ,\n",
       "         1.08002747,  1.17802664,  1.27602581,  1.37402498,  1.47202415,\n",
       "         1.57002332,  1.6680225 ,  1.76602167,  1.86402084,  1.96202001,\n",
       "         2.06001918,  2.15801835,  2.25601752,  2.35401669,  2.45201586,\n",
       "         2.55001504,  2.64801421,  2.74601338,  2.84401255,  2.94201172,\n",
       "         3.04001089,  3.13801006,  3.23600923,  3.3340084 ,  3.43200758,\n",
       "         3.53000675,  3.62800592,  3.72600509,  3.82400426,  3.92200343,\n",
       "         4.0200026 ,  4.11800177,  4.21600094,  4.31400012,  4.41199929,\n",
       "         4.50999846,  4.60799763,  4.7059968 ,  4.80399597,  4.90199514,\n",
       "         4.99999431]),\n",
       " <a list of 50 Patch objects>)"
      ]
     },
     "execution_count": 14,
     "metadata": {},
     "output_type": "execute_result"
    },
    {
     "data": {
      "image/png": "[encoded data removed]",
      "text/plain": [
       "<matplotlib.figure.Figure at 0x7f9f683f3e90>"
      ]
     },
     "metadata": {},
     "output_type": "display_data"
    }
   ],
   "source": [
    "plt.hist(acc,bins=50,normed=True)"
   ]
  },
  {
   "cell_type": "markdown",
   "metadata": {},
   "source": [
    "iv) This technique is now generalized to probe the distribution at a given energy. This is contained in the following function."
   ]
  },
  {
   "cell_type": "code",
   "execution_count": 9,
   "metadata": {
    "collapsed": true
   },
   "outputs": [],
   "source": [
    "def D_f(eps):\n",
    "    N = 10000\n",
    "    N_accepted = 0.0\n",
    "    fe = fp(eps)\n",
    "    for i in range(N):\n",
    "        r = np.random.rand()\n",
    "        if r<fe:\n",
    "            N_accepted+=1.0\n",
    "    return N_accepted/N"
   ]
  },
  {
   "cell_type": "markdown",
   "metadata": {},
   "source": [
    "Loop over all energies in small steps $d\\epsilon'$ and plot the distribution."
   ]
  },
  {
   "cell_type": "code",
   "execution_count": 10,
   "metadata": {
    "collapsed": false
   },
   "outputs": [
    {
     "data": {
      "text/plain": [
       "<Container object of 100 artists>"
      ]
     },
     "execution_count": 10,
     "metadata": {},
     "output_type": "execute_result"
    },
    {
     "data": {
      "image/png": "[encoded data removed]",
      "text/plain": [
       "<matplotlib.figure.Figure at 0x7f9f6af19450>"
      ]
     },
     "metadata": {},
     "output_type": "display_data"
    }
   ],
   "source": [
    "energies = np.linspace(0.1,5.0,100)\n",
    "Dist = []\n",
    "for e in energies:\n",
    "    Dist.append(D_f(e))\n",
    "plt.bar(energies,Dist,width = energies[1]-energies[0])"
   ]
  },
  {
   "cell_type": "markdown",
   "metadata": {},
   "source": [
    "Hey hey badabing."
   ]
  },
  {
   "cell_type": "code",
   "execution_count": null,
   "metadata": {
    "collapsed": true
   },
   "outputs": [],
   "source": []
  }
 ],
 "metadata": {
  "kernelspec": {
   "display_name": "Python 2",
   "language": "python",
   "name": "python2"
  },
  "language_info": {
   "codemirror_mode": {
    "name": "ipython",
    "version": 2
   },
   "file_extension": ".py",
   "mimetype": "text/x-python",
   "name": "python",
   "nbconvert_exporter": "python",
   "pygments_lexer": "ipython2",
   "version": "2.7.10"
  }
 },
 "nbformat": 4,
 "nbformat_minor": 0
}
