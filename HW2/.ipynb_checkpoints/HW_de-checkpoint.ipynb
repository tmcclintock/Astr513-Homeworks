{
 "cells": [
  {
   "cell_type": "code",
   "execution_count": 2,
   "metadata": {
    "collapsed": false
   },
   "outputs": [],
   "source": [
    "import numpy as np\n",
    "import utilities\n",
    "import corner\n",
    "import matplotlib.pyplot as plt\n",
    "\n",
    "%matplotlib inline"
   ]
  },
  {
   "cell_type": "code",
   "execution_count": 3,
   "metadata": {
    "collapsed": true
   },
   "outputs": [],
   "source": [
    "#Define R and h in terms of us and g\n",
    "def Rfunc(ux,uy,g):\n",
    "    return 2*ux*uy/g\n",
    "def hfunc(uy,g):\n",
    "    return uy*uy/(2.*g)"
   ]
  },
  {
   "cell_type": "code",
   "execution_count": 4,
   "metadata": {
    "collapsed": true
   },
   "outputs": [],
   "source": [
    "#Define our frequentist probability distribution\n",
    "def P_freq(ux,uy,g,means,sigmas):\n",
    "    R0,h0,g0 = means\n",
    "    sigR,sigh,sigg = sigmas\n",
    "    Rexp = np.exp(-(Rfunc(ux,uy,g)-R0)**2/(2*sigR**2))\n",
    "    hexp = np.exp(-(hfunc(uy,g)-h0)**2/(2*sigh**2))\n",
    "    gexp = np.exp(-(g-g0)**2/(2*sigg**2))\n",
    "    return 2*uy**2/(g*(2*np.pi)**(3./2.)*sigh*sigR*sigg)*Rexp,hexp,gexp"
   ]
  },
  {
   "cell_type": "code",
   "execution_count": 6,
   "metadata": {
    "collapsed": false
   },
   "outputs": [],
   "source": [
    "#Define our bayesian probability distribution function without priors\n",
    "def P_bay(ux,uy,g,means,sigmas):\n",
    "    R0,h0,g0 = means\n",
    "    sigR,sigh,sigg = sigmas\n",
    "    Rexp = np.exp(-(Rfunc(ux,uy,g)-R0)**2/(2*sigR**2))\n",
    "    hexp = np.exp(-(hfunc(uy,g)-h0)**2/(2*sigh**2))\n",
    "    gexp = np.exp(-(g-g0)**2/(2*sigg**2))\n",
    "    return 1./((2*np.pi)**(3./2.)*sigh*sigR*sigg)*Rexp,hexp,gexp"
   ]
  },
  {
   "cell_type": "code",
   "execution_count": 9,
   "metadata": {
    "collapsed": false
   },
   "outputs": [],
   "source": [
    "#Let's marginalize over P_bay twice to calculate the marginalized\n",
    "#probability of each of the parameters in turn. In order to do this\n",
    "#We will first define wrappers for P_bay to be able to integrate with\n",
    "#scipy.quad, which uses a high order technique from Fortran's QUADPACK.\n",
    "#This is necessary because quad always integrates over the first argument\n",
    "def P_bay_ux(uy,g,ux,means,sigmas):\n",
    "    return P_bay(ux,uy,g,means,sigmas)\n",
    "def P_bay_uy(ux,g,uy,means,sigmas):\n",
    "    return P_bay(ux,uy,g,means,sigmas)\n",
    "    return P_bay(ux,uy,g,means,sigmas)\n"
   ]
  },
  {
   "cell_type": "code",
   "execution_count": null,
   "metadata": {
    "collapsed": true
   },
   "outputs": [],
   "source": []
  }
 ],
 "metadata": {
  "kernelspec": {
   "display_name": "Python 2",
   "language": "python",
   "name": "python2"
  },
  "language_info": {
   "codemirror_mode": {
    "name": "ipython",
    "version": 2
   },
   "file_extension": ".py",
   "mimetype": "text/x-python",
   "name": "python",
   "nbconvert_exporter": "python",
   "pygments_lexer": "ipython2",
   "version": "2.7.11"
  }
 },
 "nbformat": 4,
 "nbformat_minor": 0
}
