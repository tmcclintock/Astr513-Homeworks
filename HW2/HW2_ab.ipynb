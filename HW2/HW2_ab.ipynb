{
 "cells": [
  {
   "cell_type": "code",
   "execution_count": 1,
   "metadata": {
    "collapsed": false
   },
   "outputs": [],
   "source": [
    "import numpy as np\n",
    "## Tom's utilities file\n",
    "import sys\n",
    "utils_path = '/Users/work/Utilities'  # Change as needed\n",
    "if not utils_path in sys.path :\n",
    "    sys.path.insert(0, utils_path)\n",
    "import utilities\n",
    "import corner\n",
    "import matplotlib.pyplot as plt\n",
    "from matplotlib import rc\n",
    "from matplotlib.backends.backend_pdf import PdfPages\n",
    "\n",
    "%matplotlib inline\n",
    "rc('text', usetex=True)\n",
    "font_options = {'family':'serif', 'serif':'cm', 'size':18}\n",
    "rc('font', **font_options)"
   ]
  },
  {
   "cell_type": "markdown",
   "metadata": {},
   "source": [
    "a) We can use three equations to find $u_x$ and $u_y$ in terms of $R$, $g$, and $h$:\n",
    "\n",
    "$$0 = u_y^2 - 2 g h \\Rightarrow u_y = \\sqrt{2 g h}$$\n",
    "$$0 = u_y - \\frac{g t}{2} = \\sqrt{2 g h} - \\frac{g t}{2} \\Rightarrow t = \\sqrt{\\frac{8 h}{g}}$$\n",
    "$$R = u_x t = u_x \\sqrt{\\frac{8 h}{g}} \\Rightarrow u_x = R \\sqrt{\\frac{g}{8 h}}$$\n",
    "\n",
    "The expected values for $u_x$ and $u_y$ for this approach are just the values we get when we use $R_0$, $h_0$, and $g_0$:\n",
    "\n",
    "$$u_x^0 = R_0 \\sqrt{\\frac{g_0}{8 h_0}} = 10.0 \\mathrm{m} \\sqrt{\\frac{9.81 \\mathrm{m}\\cdot\\mathrm{s}^{-2}}{8 \\cdot 1.0 \\mathrm{m}}} \\approx 11.1 \\mathrm{m}\\cdot\\mathrm{s}^{-1}$$\n",
    "\n",
    "$$u_y^0 = \\sqrt{2 g_0 h_0} = \\sqrt{2 \\cdot 9.81 \\mathrm{m}\\cdot\\mathrm{s}^{-2} \\cdot 1.0 \\mathrm{m}} \\approx 4.43 \\mathrm{m}\\cdot\\mathrm{s}^{-1}$$\n",
    "\n",
    "We can use the logarithim and standard propagation of errors to infer the fractional uncertainties in $u_x$ and $u_y$ given $\\sigma_R$, $\\sigma_h$, and $\\sigma_g$:\n",
    "\n",
    "$$\\ln u_x = \\ln\\left(R \\sqrt{\\frac{g}{8 h}}\\right) = \\ln R + \\frac{1}{2} \\ln g - \\frac{1}{2} \\ln 8 - \\frac{1}{2} \\ln h$$\n",
    "\n",
    "$$\\Rightarrow \\frac{\\sigma_{u_x}}{u_x} = \\sqrt{\\left(\\frac{\\sigma_R}{R_0}\\right)^2 + \\frac{1}{4} \\left(\\frac{\\sigma_g}{g_0}\\right)^2 + \\frac{1}{4} \\left(\\frac{\\sigma_h}{h_0}\\right)^2} = \\sqrt{\\left(\\frac{0.2}{10.0}\\right)^2 + \\frac{1}{4} \\left(\\frac{0.05}{9.81}\\right)^2 + \\frac{1}{4} \\left(\\frac{0.2}{1.0}\\right)^2} \\approx 0.10$$\n",
    "\n",
    "$$\\ln u_y = \\ln \\sqrt{2 g h} = \\frac{1}{2} \\ln 2 + \\frac{1}{2} \\ln g + \\frac{1}{2} \\ln h$$\n",
    "\n",
    "$$\\Rightarrow \\frac{\\sigma_{u_y}}{u_y} = \\sqrt{\\frac{1}{4} \\left(\\frac{\\sigma_g}{g_0}\\right)^2 + \\frac{1}{4} \\left(\\frac{\\sigma_h}{h_0}\\right)^2} = \\frac{1}{2} \\sqrt{\\left(\\frac{0.05}{9.81}\\right)^2 + \\left(\\frac{0.2}{1.0}\\right)^2} \\approx 0.10$$"
   ]
  },
  {
   "cell_type": "markdown",
   "metadata": {},
   "source": [
    "b) We now want to use Monte Carlo realizations of $R$, $g$, and $h$ to generate one-dimensional, marginalized distributions for $u_x$ and $u_y$ to compare with the results above. We can plot contours of $u_y$ vs. $u_x$ and the marginalized histograms and compare with the error propagation method results of $u_x = 11.1 \\pm 0.10 \\mathrm{m}\\cdot\\mathrm{s}^{-1}$ and $u_y = 4.43 \\pm 0.10 \\mathrm{m}\\cdot\\mathrm{s}^{-1}$."
   ]
  },
  {
   "cell_type": "code",
   "execution_count": 2,
   "metadata": {
    "collapsed": true
   },
   "outputs": [],
   "source": [
    "# Set the random seed\n",
    "np.random.seed(0)\n",
    "# Choose the number of realizations\n",
    "Nreal = 1e6\n",
    "# Set the means and standard deviations for R, g, and h\n",
    "meanR, sigmaR = 10.0, 0.2\n",
    "meanh, sigmah = 1.0, 0.2\n",
    "meang, sigmag = 9.81, 0.05\n",
    "# Generate Gaussian distributions of R, g, and h with the given means and standard deviations\n",
    "z1, z2 = utilities.get_fake_gaussian_data(Nreal)\n",
    "z3 = utilities.get_fake_gaussian_data(Nreal)[0]  # Only need one more!!\n",
    "Rdist = meanR + sigmaR*z1\n",
    "hdist = meanh + sigmah*z2\n",
    "gdist = meang + sigmag*z3\n",
    "\n",
    "# Now find the ux and uy distributions given the distributions in R, g, and h\n",
    "frequentist_ux = Rdist*np.sqrt(gdist/(8*hdist))\n",
    "frequentist_uy = np.sqrt(2*gdist*hdist)"
   ]
  },
  {
   "cell_type": "code",
   "execution_count": 3,
   "metadata": {
    "collapsed": true
   },
   "outputs": [],
   "source": [
    "# Also set the mean and uncertainty of ux and uy from the error propagation method\n",
    "# ep_ux, ep_sigmax = meanR*np.sqrt(meang/(8*meanh)), np.sqrt(np.power(sigmaR/meanR, 2) + np.power(sigmag/(2*meang), 2) + np.power(sigmah/(2*meanh), 2))\n",
    "ep_ux, ep_sigmax = 11.1, 0.10\n",
    "# ep_uy, ep_sigmay = np.sqrt(2*meang*meanh), 0.5*np.sqrt(np.power(sigmag/meang, 2) + np.power(sigmah/meanh, 2))\n",
    "ep_uy, ep_sigmay = 4.43, 0.10"
   ]
  },
  {
   "cell_type": "code",
   "execution_count": 4,
   "metadata": {
    "collapsed": false
   },
   "outputs": [
    {
     "data": {
      "image/png": "[encoded data removed]",
      "text/plain": [
       "<matplotlib.figure.Figure at 0x1087ef810>"
      ]
     },
     "metadata": {},
     "output_type": "display_data"
    }
   ],
   "source": [
    "# Make the plots\n",
    "## I'm going to use the corner.py module, but I want to be able to add the truth values with errorbars myself, so I'll\n",
    "## set up the figure for it to use following the same method in corner.py\n",
    "K = 2\n",
    "factor = 2.0           # size of one side of one panel\n",
    "lbdim = 0.5 * factor   # size of left/bottom margin\n",
    "trdim = 0.2 * factor   # size of top/right margin\n",
    "whspace = 0.05         # w/hspace size\n",
    "plotdim = factor * K + factor * (K - 1.) * whspace\n",
    "dim = lbdim + plotdim + trdim\n",
    "fig, axes = plt.subplots(K, K, figsize=(dim, dim))\n",
    "data = np.array([frequentist_ux, frequentist_uy]).T\n",
    "fig = corner.corner(data, bins=100, labels=[r'$u_x$', r'$u_y$'], label_kwargs={'fontsize':font_options['size']}, quantiles=[0.16, 0.84], levels=(1-np.exp(-0.5),), show_titles=True, title_kwargs={'fontsize':font_options['size']}, fig=fig)\n",
    "ax = axes[1,0]\n",
    "ax.errorbar(ep_ux, ep_uy, xerr=ep_sigmax*ep_ux, yerr=ep_sigmay*ep_uy, fmt='r.', elinewidth=1)\n",
    "ax = axes[0,0]\n",
    "ax.axvline(ep_ux, color='r', linewidth=1.5)\n",
    "q = corner.quantile(frequentist_ux, (0.5,))\n",
    "ax.axvline(q, ls='--', color='k', linewidth=1.5)\n",
    "ax = axes[1,1]\n",
    "ax.axvline(ep_uy, color='r', linewidth=1.5)\n",
    "q = corner.quantile(frequentist_uy, (0.5,))\n",
    "ax.axvline(q, ls='--', color='k', linewidth=1.5)\n",
    "## Save the figure\n",
    "pp = PdfPages('hw2_b_corner.pdf')\n",
    "pp.savefig(fig)\n",
    "pp.close()"
   ]
  }
 ],
 "metadata": {
  "kernelspec": {
   "display_name": "Python 2",
   "language": "python",
   "name": "python2"
  },
  "language_info": {
   "codemirror_mode": {
    "name": "ipython",
    "version": 2
   },
   "file_extension": ".py",
   "mimetype": "text/x-python",
   "name": "python",
   "nbconvert_exporter": "python",
   "pygments_lexer": "ipython2",
   "version": "2.7.11"
  }
 },
 "nbformat": 4,
 "nbformat_minor": 0
}
